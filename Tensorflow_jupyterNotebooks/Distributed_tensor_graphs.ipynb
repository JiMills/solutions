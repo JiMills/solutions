{
 "cells": [
  {
   "cell_type": "code",
   "execution_count": 2,
   "metadata": {},
   "outputs": [],
   "source": [
    "#First, although variable values are shared throughout the cluster, the graph is not automatically shared.\n",
    "#Let's create a fresh cluster with two servers, and set up the first server with an explicitly-created graph.\n",
    "\n",
    "import tensorflow as tf\n",
    "\n",
    "cluster = tf.train.ClusterSpec({\"local\": [\"localhost:2224\", \"localhost:2225\"]})\n",
    "server1 = tf.train.Server(cluster, job_name=\"local\", task_index=0)\n",
    "server2 = tf.train.Server(cluster, job_name=\"local\", task_index=1)"
   ]
  },
  {
   "cell_type": "code",
   "execution_count": 3,
   "metadata": {},
   "outputs": [
    {
     "name": "stdout",
     "output_type": "stream",
     "text": [
      "[<tf.Operation 'var/initial_value' type=Const>, <tf.Operation 'var' type=VariableV2>, <tf.Operation 'var/Assign' type=Assign>, <tf.Operation 'var/read' type=Identity>]\n"
     ]
    }
   ],
   "source": [
    "graph1 = tf.Graph()\n",
    "with graph1.as_default():\n",
    "    var1 = tf.Variable(0.0, name='var')\n",
    "sess1 = tf.Session(target=server1.target, graph=graph1)\n",
    "print(graph1.get_operations())"
   ]
  },
  {
   "cell_type": "code",
   "execution_count": 4,
   "metadata": {},
   "outputs": [
    {
     "name": "stdout",
     "output_type": "stream",
     "text": [
      "[]\n"
     ]
    }
   ],
   "source": [
    "#If we then create a session connected to the second server, note that the graph does not automatically get mirrored.\n",
    "\n",
    "graph2 = tf.Graph()\n",
    "sess2 = tf.Session(target=server2.target, graph=graph2)\n",
    "print(graph2.get_operations())"
   ]
  },
  {
   "cell_type": "code",
   "execution_count": 5,
   "metadata": {
    "collapsed": true
   },
   "outputs": [],
   "source": [
    "#To access the shared variable, we must manually add a variable with the same name to the second graph.\n",
    "\n",
    "with graph2.as_default():\n",
    "    var2 = tf.Variable(0.0, name='var')"
   ]
  },
  {
   "cell_type": "code",
   "execution_count": 6,
   "metadata": {},
   "outputs": [
    {
     "data": {
      "text/plain": [
       "1.0"
      ]
     },
     "execution_count": 6,
     "metadata": {},
     "output_type": "execute_result"
    }
   ],
   "source": [
    "#Only then can we access it.\n",
    "\n",
    "sess1.run(var1.assign(1.0))\n",
    "sess2.run(var2)"
   ]
  },
  {
   "cell_type": "code",
   "execution_count": 8,
   "metadata": {
    "collapsed": true
   },
   "outputs": [],
   "source": [
    "#Does the graph have to be the same on all servers?\n",
    "#So far, all our examples have run the same graph structure on both servers. This is known as in-graph replication.\n",
    "\n",
    "#For example, let's say we have a cluster containing three servers. Server 1 holds shared parameters, while server 2 and server 3 are worker nodes, each with local variables. \n",
    "#With in-graph replication, each server's graphs would look like:\n",
    "\n",
    "#The issue with in-graph replication is that every server has to have a copy of the entire graph, including the parts of the graph that might only be relevant for other servers. \n",
    "#This can lead to graphs growing very large.\n",
    "#The alternative is between-graph replication. Here, each server runs a graph containing only the shared parameters, and whatever variables and operations are relevant to that individual server.\n",
    "#Because it keeps graph sizes smaller, between-graph replication is the recommended approach.\n",
    "\n",
    "#What happens if we try to run something on the cluster before all servers have connected?\n",
    "#Let's create another two-task cluster.\n",
    "\n",
    "cluster = tf.train.ClusterSpec({\n",
    "    \"local\": [\"localhost:2226\", \"localhost:2227\"]\n",
    "})\n"
   ]
  },
  {
   "cell_type": "code",
   "execution_count": 10,
   "metadata": {},
   "outputs": [
    {
     "ename": "TypeError",
     "evalue": "__init__() got an unexpected keyword argument 'daemon'",
     "output_type": "error",
     "traceback": [
      "\u001b[0;31m\u001b[0m",
      "\u001b[0;31mTypeError\u001b[0mTraceback (most recent call last)",
      "\u001b[0;32m<ipython-input-10-0ad12c6ac8d7>\u001b[0m in \u001b[0;36m<module>\u001b[0;34m()\u001b[0m\n\u001b[1;32m     29\u001b[0m \u001b[0;31m# daemon=True so that these processes will definitely be killed\u001b[0m\u001b[0;34m\u001b[0m\u001b[0;34m\u001b[0m\u001b[0m\n\u001b[1;32m     30\u001b[0m \u001b[0;31m# when the parent process restarts\u001b[0m\u001b[0;34m\u001b[0m\u001b[0;34m\u001b[0m\u001b[0m\n\u001b[0;32m---> 31\u001b[0;31m \u001b[0mp1\u001b[0m \u001b[0;34m=\u001b[0m \u001b[0mProcess\u001b[0m\u001b[0;34m(\u001b[0m\u001b[0mtarget\u001b[0m\u001b[0;34m=\u001b[0m\u001b[0ms1\u001b[0m\u001b[0;34m,\u001b[0m \u001b[0mdaemon\u001b[0m\u001b[0;34m=\u001b[0m\u001b[0mTrue\u001b[0m\u001b[0;34m)\u001b[0m\u001b[0;34m\u001b[0m\u001b[0m\n\u001b[0m\u001b[1;32m     32\u001b[0m \u001b[0mp2\u001b[0m \u001b[0;34m=\u001b[0m \u001b[0mProcess\u001b[0m\u001b[0;34m(\u001b[0m\u001b[0mtarget\u001b[0m\u001b[0;34m=\u001b[0m\u001b[0ms2\u001b[0m\u001b[0;34m,\u001b[0m \u001b[0mdaemon\u001b[0m\u001b[0;34m=\u001b[0m\u001b[0mTrue\u001b[0m\u001b[0;34m)\u001b[0m\u001b[0;34m\u001b[0m\u001b[0m\n",
      "\u001b[0;31mTypeError\u001b[0m: __init__() got an unexpected keyword argument 'daemon'"
     ]
    }
   ],
   "source": [
    "#This time, let's start each server in a separate process. \n",
    "#(This allows us to kill the servers, so that we can start them again for later experiments. \n",
    "#There's currently no way of killing servers other than killing the process which started them.)\n",
    "\n",
    "from multiprocessing import Process\n",
    "from time import sleep\n",
    "\n",
    "def s1():\n",
    "    server1 = tf.train.Server(cluster,\n",
    "                              job_name=\"local\",\n",
    "                              task_index=0)\n",
    "    sess1 = tf.Session(server1.target)\n",
    "    print(\"server 1: running no-op...\")\n",
    "    sess1.run(tf.no_op())\n",
    "    print(\"server 1: no-op run!\")\n",
    "    server1.join() # Block\n",
    "\n",
    "def s2():\n",
    "    for i in range(3):\n",
    "        print(\"server 2: %d seconds left before connecting...\"\n",
    "              % (3 - i))\n",
    "        sleep(1.0)\n",
    "    server2 = tf.train.Server(cluster,\n",
    "                              job_name=\"local\",\n",
    "                              task_index=1)\n",
    "    print(\"server 2: connected!\")\n",
    "    server2.join() # Block\n",
    "\n",
    "# daemon=True so that these processes will definitely be killed\n",
    "# when the parent process restarts\n",
    "p1 = Process(target=s1, daemon=True)\n",
    "p2 = Process(target=s2, daemon=True)"
   ]
  },
  {
   "cell_type": "code",
   "execution_count": 12,
   "metadata": {},
   "outputs": [
    {
     "ename": "TypeError",
     "evalue": "__init__() got an unexpected keyword argument 'daemon'",
     "output_type": "error",
     "traceback": [
      "\u001b[0;31m\u001b[0m",
      "\u001b[0;31mTypeError\u001b[0mTraceback (most recent call last)",
      "\u001b[0;32m<ipython-input-12-45ac376cf178>\u001b[0m in \u001b[0;36m<module>\u001b[0;34m()\u001b[0m\n\u001b[0;32m----> 1\u001b[0;31m \u001b[0mp1\u001b[0m \u001b[0;34m=\u001b[0m \u001b[0mProcess\u001b[0m\u001b[0;34m(\u001b[0m\u001b[0mtarget\u001b[0m\u001b[0;34m=\u001b[0m\u001b[0ms1\u001b[0m\u001b[0;34m,\u001b[0m \u001b[0mdaemon\u001b[0m\u001b[0;34m=\u001b[0m\u001b[0mTrue\u001b[0m\u001b[0;34m)\u001b[0m\u001b[0;34m\u001b[0m\u001b[0m\n\u001b[0m\u001b[1;32m      2\u001b[0m \u001b[0mp2\u001b[0m \u001b[0;34m=\u001b[0m \u001b[0mProcess\u001b[0m\u001b[0;34m(\u001b[0m\u001b[0mtarget\u001b[0m\u001b[0;34m=\u001b[0m\u001b[0ms2\u001b[0m\u001b[0;34m,\u001b[0m \u001b[0mdaemon\u001b[0m\u001b[0;34m=\u001b[0m\u001b[0mTrue\u001b[0m\u001b[0;34m)\u001b[0m\u001b[0;34m\u001b[0m\u001b[0m\n",
      "\u001b[0;31mTypeError\u001b[0m: __init__() got an unexpected keyword argument 'daemon'"
     ]
    }
   ],
   "source": [
    "p1 = Process(target=s1, daemon=True)\n",
    "p2 = Process(target=s2, daemon=True)"
   ]
  },
  {
   "cell_type": "code",
   "execution_count": null,
   "metadata": {
    "collapsed": true
   },
   "outputs": [],
   "source": []
  }
 ],
 "metadata": {
  "kernelspec": {
   "display_name": "Python 2",
   "language": "python",
   "name": "python2"
  },
  "language_info": {
   "codemirror_mode": {
    "name": "ipython",
    "version": 2
   },
   "file_extension": ".py",
   "mimetype": "text/x-python",
   "name": "python",
   "nbconvert_exporter": "python",
   "pygments_lexer": "ipython2",
   "version": "2.7.13"
  }
 },
 "nbformat": 4,
 "nbformat_minor": 2
}
